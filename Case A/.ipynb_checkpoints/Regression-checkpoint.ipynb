{
 "cells": [
  {
   "cell_type": "code",
   "execution_count": 1,
   "metadata": {},
   "outputs": [
    {
     "name": "stderr",
     "output_type": "stream",
     "text": [
      "C:\\Users\\grave\\Anaconda3\\lib\\site-packages\\h5py\\__init__.py:34: FutureWarning: Conversion of the second argument of issubdtype from `float` to `np.floating` is deprecated. In future, it will be treated as `np.float64 == np.dtype(float).type`.\n",
      "  from ._conv import register_converters as _register_converters\n"
     ]
    }
   ],
   "source": [
    "import pandas as pd\n",
    "import tensorflow as tf\n",
    "import collections\n",
    "import numpy as np\n",
    "from sklearn import linear_model\n",
    "from sklearn.metrics import mean_squared_error, mean_absolute_error, explained_variance_score, r2_score\n",
    "import matplotlib.pyplot as plt\n",
    "from sklearn.ensemble import RandomForestRegressor, GradientBoostingRegressor, ExtraTreesRegressor\n",
    "from sklearn.svm import SVR, NuSVR, LinearSVR\n",
    "from sklearn.model_selection import GridSearchCV\n",
    "from sklearn.model_selection import train_test_split\n",
    "from sklearn.model_selection import cross_val_score\n",
    "from sklearn.preprocessing import normalize\n",
    "from sklearn.feature_selection import SelectFromModel\n",
    "from sklearn.pipeline import Pipeline\n",
    "from sklearn.feature_selection import VarianceThreshold"
   ]
  },
  {
   "cell_type": "code",
   "execution_count": 2,
   "metadata": {
    "collapsed": true
   },
   "outputs": [],
   "source": [
    "COLUMN_TYPES = collections.OrderedDict([\n",
    "    (\"crime\", float), # Important\n",
    "    (\"zn\", float),\n",
    "    (\"indus\", float),\n",
    "    (\"chas\", int),\n",
    "    (\"nox\", float),\n",
    "    (\"rm\", float), # Important! Without this accuracy drops\n",
    "    (\"age\", float),\n",
    "    (\"dis\", float), # Important! \n",
    "    (\"rad\", int),\n",
    "    (\"tax\", int),\n",
    "    (\"ptratio\", float), # Important!\n",
    "    (\"b\", float), # Doesnt do much\n",
    "    (\"lstat\", float), # Important\n",
    "    (\"medv\", float)\n",
    "])"
   ]
  },
  {
   "cell_type": "code",
   "execution_count": 3,
   "metadata": {
    "collapsed": true
   },
   "outputs": [],
   "source": [
    "df = pd.read_csv('housingdata.csv', header=0, delimiter=';', names=COLUMN_TYPES.keys(), dtype=COLUMN_TYPES)"
   ]
  },
  {
   "cell_type": "code",
   "execution_count": 4,
   "metadata": {},
   "outputs": [],
   "source": [
    "seed = sum([ord(x) for x in \"LIGHT FROM LIGHT\"])\n",
    "np.random.seed(seed)\n",
    "y_name = 'medv'\n",
    "mean = np.mean(df[\"medv\"])\n",
    "df_sampled = df.sample(frac=1, random_state=seed)\n",
    "df[\"medv\"] = df[\"medv\"].apply(lambda x: (x - mean))"
   ]
  },
  {
   "cell_type": "code",
   "execution_count": 5,
   "metadata": {},
   "outputs": [],
   "source": [
    "# Features\n",
    "x_train, x_valid = np.split(df_sampled, [int(0.9*len(df_sampled))])\n",
    "x_train, x_test = np.split(x_train, [int(0.9*len(x_train))])\n",
    "# Targets\n",
    "y_train = x_train.pop(y_name)\n",
    "y_valid = x_valid.pop(y_name)\n",
    "y_test  = x_test.pop(y_name)"
   ]
  },
  {
   "cell_type": "code",
   "execution_count": 6,
   "metadata": {},
   "outputs": [
    {
     "data": {
      "text/plain": [
       "22.532806324110698"
      ]
     },
     "execution_count": 6,
     "metadata": {},
     "output_type": "execute_result"
    }
   ],
   "source": [
    "mean"
   ]
  },
  {
   "cell_type": "code",
   "execution_count": 7,
   "metadata": {
    "collapsed": true
   },
   "outputs": [],
   "source": [
    "#model = GradientBoostingRegressor(random_state=seed)\n",
    "#param_grid = { \"loss\"              : ['ls', 'huber', 'lad'],\n",
    "#               \"n_estimators\"      : [1,25,100,300,500],\n",
    "#               \"max_depth\"         : [1,3,6,9,12,15,18],\n",
    "#               \"min_samples_split\" : [2,4,6,8,10],\n",
    "#               \"learning_rate\": [0.01, 0.05, 0.1]}\n",
    "#grid_search = GridSearchCV(model, param_grid, n_jobs=-1, cv=2, scoring='r2', verbose=1)\n",
    "#grid_search.fit(x_train, y_train)\n",
    "#print(grid_search.best_params_)"
   ]
  },
  {
   "cell_type": "code",
   "execution_count": 8,
   "metadata": {},
   "outputs": [],
   "source": [
    "#model = GradientBoostingRegressor(loss='huber', \n",
    "#                                 max_depth=3, \n",
    "#                                 min_samples_split=4, \n",
    "#                                 n_estimators=300,\n",
    "#                                 learning_rate=0.1,\n",
    "#                                 random_state=seed)\n",
    "#\n",
    "#scores = cross_val_score(model, x_train, y_train, cv=5)\n",
    "#scores # array([0.88990719, 0.89271209, 0.88811618, 0.76994707, 0.87563016])\n",
    "#sel = VarianceThreshold(threshold=(.8 * (1 - .8)))\n",
    "#sel.fit_transform(x_train)"
   ]
  },
  {
   "cell_type": "code",
   "execution_count": 9,
   "metadata": {},
   "outputs": [
    {
     "name": "stdout",
     "output_type": "stream",
     "text": [
      "Mean squared error: 10.10\n",
      "Mean absolute error: 2.01\n",
      "Explained Variance Score: 0.89\n",
      "R2 score: 0.87\n"
     ]
    }
   ],
   "source": [
    "model = Pipeline([\n",
    "#('feature_selection', SelectFromModel(SVR())),\n",
    "('regression', GradientBoostingRegressor(loss='huber', \n",
    "                                         max_depth=3, \n",
    "                                         min_samples_split=4, \n",
    "                                         n_estimators=300,\n",
    "                                         learning_rate=0.1,\n",
    "                                         random_state=seed))\n",
    "])\n",
    "model.fit(x_train, y_train)\n",
    "y_valid = y_valid\n",
    "y_pred = pd.Series(model.predict(x_valid), index=y_valid.index)\n",
    "print(\"Mean squared error: %.2f\" % mean_squared_error(y_valid, y_pred)) # Lower the better\n",
    "print(\"Mean absolute error: %.2f\" % mean_absolute_error(y_valid, y_pred)) # Lower the better\n",
    "print(\"Explained Variance Score: %.2f\" % explained_variance_score(y_valid, y_pred)) # Explained variance score: 1 is perfect\n",
    "print('R2 score: %.2f' % r2_score(y_valid, y_pred)) # 1 is perfect"
   ]
  },
  {
   "cell_type": "code",
   "execution_count": 10,
   "metadata": {},
   "outputs": [
    {
     "name": "stdout",
     "output_type": "stream",
     "text": [
      "Mean squared error: 13.15\n",
      "Mean absolute error: 2.30\n",
      "Explained Variance Score: 0.87\n",
      "R2 score: 0.87\n"
     ]
    }
   ],
   "source": [
    "y_test_pred = pd.Series(model.predict(x_test), index=y_test.index)\n",
    "print(\"Mean squared error: %.2f\" % mean_squared_error(y_test, y_test_pred)) # Lower the better\n",
    "print(\"Mean absolute error: %.2f\" % mean_absolute_error(y_test, y_test_pred)) # Lower the better\n",
    "print(\"Explained Variance Score: %.2f\" % explained_variance_score(y_test, y_test_pred)) # Explained variance score: 1 is perfect\n",
    "print('R2 score: %.2f' % r2_score(y_test, y_test_pred)) # 1 is perfect"
   ]
  },
  {
   "cell_type": "code",
   "execution_count": 11,
   "metadata": {},
   "outputs": [
    {
     "data": {
      "text/plain": [
       "Pipeline(memory=None,\n",
       "     steps=[('regression', GradientBoostingRegressor(alpha=0.9, criterion='friedman_mse', init=None,\n",
       "             learning_rate=0.1, loss='huber', max_depth=3,\n",
       "             max_features=None, max_leaf_nodes=None,\n",
       "             min_impurity_decrease=0.0, min_impurity_split=None,\n",
       "             min_samples_leaf=1, min_samples_split=4,\n",
       "             min_weight_fraction_leaf=0.0, n_estimators=300,\n",
       "             presort='auto', random_state=1124, subsample=1.0, verbose=0,\n",
       "             warm_start=False))])"
      ]
     },
     "execution_count": 11,
     "metadata": {},
     "output_type": "execute_result"
    }
   ],
   "source": [
    "# Good enough! Learn model with full dataset and save.\n",
    "model = Pipeline([\n",
    "#('feature_selection', SelectFromModel(SVR())),\n",
    "('regression', GradientBoostingRegressor(loss='huber', \n",
    "                                         max_depth=3, \n",
    "                                         min_samples_split=4, \n",
    "                                         n_estimators=300,\n",
    "                                         learning_rate=0.1,\n",
    "                                         random_state=seed))\n",
    "])\n",
    "X = df\n",
    "y = df.pop(y_name)\n",
    "model.fit(X, y)\n",
    "# To be saved, whatever."
   ]
  }
 ],
 "metadata": {
  "kernelspec": {
   "display_name": "Python 3",
   "language": "python",
   "name": "python3"
  },
  "language_info": {
   "codemirror_mode": {
    "name": "ipython",
    "version": 3
   },
   "file_extension": ".py",
   "mimetype": "text/x-python",
   "name": "python",
   "nbconvert_exporter": "python",
   "pygments_lexer": "ipython3",
   "version": "3.6.3"
  }
 },
 "nbformat": 4,
 "nbformat_minor": 2
}
